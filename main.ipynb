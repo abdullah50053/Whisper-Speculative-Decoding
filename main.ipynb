{
 "cells": [
  {
   "cell_type": "markdown",
   "metadata": {},
   "source": [
    "# Speculative Decoding\n",
    "\n",
    "Speculative Decoding was proposed in Fast Inference from Transformers via Speculative Decoding by Yaniv Leviathan et. al. from Google. It works on the premise that a faster, assistant model very often generates the same tokens as a larger main model.\n",
    "\n",
    "This project aims to test this using Open AI's Whisper speech transcription model."
   ]
  },
  {
   "cell_type": "markdown",
   "metadata": {},
   "source": [
    "# Benchmarking Whisper large-v2\n"
   ]
  },
  {
   "cell_type": "code",
   "execution_count": null,
   "metadata": {},
   "outputs": [],
   "source": [
    "!pip install torch\n",
    "!pip install transformers\n",
    "!pip install accelerate"
   ]
  },
  {
   "cell_type": "code",
   "execution_count": null,
   "metadata": {},
   "outputs": [],
   "source": [
    "import torch\n",
    "from transformers import AutoModelForSpeechSeq2Seq, AutoProcessor\n",
    "\n",
    "device = torch.device(\"cuda\" if torch.cuda.is_available() else \"cpu\")\n",
    "torch_dtype = torch.float16 if torch.cuda.is_available() else torch.float32\n",
    "\n",
    "model_id = \"openai/whisper-large-v2\"\n",
    "\n",
    "model = AutoModelForSpeechSeq2Seq.from_pretrained(\n",
    "    model_id,\n",
    "    torch_dtype=torch_dtype,\n",
    "    # low_cpu_mem_usage=True, # fast loading\n",
    "    use_safetensors=True, # secure (over pickle)\n",
    "    attn_implementation=\"sdpa\", # Flash Attention speed-up\n",
    ")\n",
    "\n",
    "model.to(device)\n",
    "\n",
    "processor = AutoProcessor.from_pretrained(model_id)"
   ]
  },
  {
   "cell_type": "code",
   "execution_count": null,
   "metadata": {},
   "outputs": [],
   "source": [
    "!pip install datasets\n",
    "from datasets import load_dataset\n",
    "\n",
    "dataset = load_dataset(\"hf-internal-testing/librispeech_asr_dummy\", \"clean\", split=\"validation\")"
   ]
  },
  {
   "cell_type": "code",
   "execution_count": null,
   "metadata": {},
   "outputs": [],
   "source": [
    "# time taken test \n",
    "\n",
    "import time\n",
    "\n",
    "def time_gen(model, inputs, **kwargs):\n",
    "    start = time.time()\n",
    "    outputs = model.generate(**inputs, **kwargs)\n",
    "    gen_time = time.time() - start\n",
    "    return outputs, gen_time"
   ]
  },
  {
   "cell_type": "code",
   "execution_count": null,
   "metadata": {},
   "outputs": [],
   "source": [
    "!pip install librosa\n",
    "!pip install soundfile\n",
    "!pip install langchain\n",
    "!pip install sentence-transformers\n",
    "!pip uninstall numpy -y\n",
    "!pip install numpy==1.26.4\n",
    "from tqdm import tqdm\n",
    "\n",
    "all_time = 0\n",
    "pred = []\n",
    "ref = []\n",
    "\n",
    "def dummy_npwarn_decorator_factory():\n",
    "  def npwarn_decorator(x):\n",
    "    return x\n",
    "  return npwarn_decorator\n",
    "np._no_nep50_warning = getattr(np, '_no_nep50_warning', dummy_npwarn_decorator_factory)\n",
    "\n",
    "\n",
    "for sample in tqdm(dataset):\n",
    "    audio = sample[\"audio\"]\n",
    "    inputs = processor(audio[\"array\"], sampling_rate=audio[\"sampling_rate\"], return_tensors=\"pt\")\n",
    "    inputs = inputs.to(device=device, dtype=torch.float16)\n",
    "\n",
    "    output, gen_time = time_gen(model, inputs)\n",
    "    all_time += gen_time\n",
    "    pred.append(processor.batch_decode(output, skip_special_tokens=True, normalize=True)[0])\n",
    "    ref.append(processor.tokenizer._normalize(sample[\"text\"]))\n",
    "\n",
    "print(f\"Total time taken: {all_time:.2f}s\")"
   ]
  },
  {
   "cell_type": "code",
   "execution_count": null,
   "metadata": {},
   "outputs": [],
   "source": [
    "!pip install evaluate\n",
    "!pip install jiwer\n",
    "\n",
    "from evaluate import load\n",
    "\n",
    "wer = load(\"wer\")\n",
    "print(wer.compute(predictions=pred, references=ref))\n"
   ]
  },
  {
   "cell_type": "markdown",
   "metadata": {},
   "source": [
    "# Using Speculative Decoding"
   ]
  },
  {
   "cell_type": "code",
   "execution_count": null,
   "metadata": {},
   "outputs": [],
   "source": [
    "from transformers import AutoModelForCausalLM\n",
    "\n",
    "assistant_model_id = \"distil-whisper/distil-large-v2\"\n",
    "\n",
    "assistant_model = AutoModelForCausalLM.from_pretrained(\n",
    "    assistant_model_id,\n",
    "    torch_dtype=torch_dtype,\n",
    "    low_cpu_mem_usage=True, # fast loading\n",
    "    use_safetensors=True, # secure (over pickle)\n",
    "    attn_implementation=\"sdpa\", # Flash Attention speed-up\n",
    ")\n",
    "\n",
    "assistant_model.to(device)"
   ]
  },
  {
   "cell_type": "code",
   "execution_count": null,
   "metadata": {},
   "outputs": [],
   "source": [
    "def assisted_generate_with_time(model, inputs, **kwargs):\n",
    "    start_time = time.time()\n",
    "    outputs = model.generate(**inputs, assistant_model=assistant_model, **kwargs)\n",
    "    generation_time = time.time() - start_time\n",
    "    return outputs, generation_time"
   ]
  },
  {
   "cell_type": "code",
   "execution_count": null,
   "metadata": {},
   "outputs": [],
   "source": [
    "all_time = 0\n",
    "pred = []\n",
    "ref = []\n",
    "\n",
    "for sample in tqdm(dataset):\n",
    "    audio = sample[\"audio\"]\n",
    "    inputs = processor(audio[\"array\"], sampling_rate=audio[\"sampling_rate\"], return_tensors=\"pt\")\n",
    "    inputs = inputs.to(device=device, dtype=torch.float16)\n",
    "\n",
    "    out, gen_time = assisted_generate_with_time(model, inputs)\n",
    "    all_time += gen_time\n",
    "    pred.append(processor.batch_decode(out, skip_special_tokens=True, normalize=True)[0])\n",
    "    ref.append(processor.tokenizer._normalize(sample[\"text\"]))\n",
    "\n",
    "print(f\"Total time taken: {all_time:.2f}s\")"
   ]
  },
  {
   "cell_type": "code",
   "execution_count": null,
   "metadata": {},
   "outputs": [],
   "source": [
    "print(wer.compute(predictions=pred, references=ref))"
   ]
  },
  {
   "cell_type": "markdown",
   "metadata": {},
   "source": [
    "# Conclusion\n",
    "\n",
    "We end with a slight speed-up in inference time, while maintaining the same WER score. "
   ]
  }
 ],
 "metadata": {
  "kernelspec": {
   "display_name": "base",
   "language": "python",
   "name": "python3"
  },
  "language_info": {
   "codemirror_mode": {
    "name": "ipython",
    "version": 3
   },
   "file_extension": ".py",
   "mimetype": "text/x-python",
   "name": "python",
   "nbconvert_exporter": "python",
   "pygments_lexer": "ipython3",
   "version": "3.12.8"
  }
 },
 "nbformat": 4,
 "nbformat_minor": 2
}
